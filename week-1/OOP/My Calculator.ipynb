{
 "cells": [
  {
   "cell_type": "code",
   "execution_count": 258,
   "metadata": {},
   "outputs": [],
   "source": [
    "import math as math\n",
    "\n",
    "class Calculator:\n",
    "    \n",
    "    def __init__(self, data):\n",
    "        self.data = data\n",
    "        self.create_stats()\n",
    "        \n",
    "    def create_stats(self):\n",
    "        self.length = len(self.data)\n",
    "        self.mean = self.calc_mean() \n",
    "        self.median = self.calc_median()\n",
    "        self.variance = self.variance()\n",
    "        self.standev = self.standard_dev()\n",
    "    \n",
    "    def add_data(self, new_data):\n",
    "        self.data.extend(new_data)\n",
    "        \n",
    "    def add_remove_update(self):\n",
    "        self.create_stats()\n",
    "    \n",
    "    def remove_data(self, old_data):\n",
    "        self.data.remove(old_data)\n",
    "        \n",
    "    def calc_mean(self):\n",
    "        return sum(self.data)/self.length\n",
    "        \n",
    "    def calc_median(self):\n",
    "        if self.length == 0:\n",
    "            return None\n",
    "        elif self.length % 2 == 1:\n",
    "            return self.data[(self.length//2)]\n",
    "        else:\n",
    "            i = self.length // 2\n",
    "            return (self.data[i-1] + self.data[i]) / 2\n",
    "            \n",
    "    def variance(self):\n",
    "        return sum(list(map(lambda x: (x - self.mean)**2, self.data)))/(self.length-1)\n",
    "        \n",
    "    def standard_dev(self):\n",
    "        return math.sqrt(self.variance)\n"
   ]
  }
 ],
 "metadata": {
  "kernelspec": {
   "display_name": "Python 3",
   "language": "python",
   "name": "python3"
  },
  "language_info": {
   "codemirror_mode": {
    "name": "ipython",
    "version": 3
   },
   "file_extension": ".py",
   "mimetype": "text/x-python",
   "name": "python",
   "nbconvert_exporter": "python",
   "pygments_lexer": "ipython3",
   "version": "3.7.3"
  }
 },
 "nbformat": 4,
 "nbformat_minor": 2
}
