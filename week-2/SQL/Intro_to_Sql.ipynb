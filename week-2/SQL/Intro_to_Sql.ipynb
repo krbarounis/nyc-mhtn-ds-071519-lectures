{
 "cells": [
  {
   "cell_type": "markdown",
   "metadata": {
    "slideshow": {
     "slide_type": "slide"
    }
   },
   "source": [
    "# Starting off "
   ]
  },
  {
   "cell_type": "markdown",
   "metadata": {
    "slideshow": {
     "slide_type": "fragment"
    }
   },
   "source": [
    "### You are working on data science project to try and predict the price of houses. You have a lot of data about the previous sales of  houses that you want to use to predict other housing prices.  \n",
    "- How would you store your data?\n",
    "- What could be some potential problems with saving your data that way?\n",
    "\n"
   ]
  },
  {
   "cell_type": "markdown",
   "metadata": {
    "slideshow": {
     "slide_type": "slide"
    }
   },
   "source": [
    "# A BEGINNER’S GUIDE TO DATABASES & SQL"
   ]
  },
  {
   "cell_type": "markdown",
   "metadata": {
    "slideshow": {
     "slide_type": "subslide"
    }
   },
   "source": [
    "**Objective:** SWBAT create a SQLite db instance, create tables and insert records into those tables\n",
    "\n",
    "**Agenda:**\n",
    "- Overview of databases\n",
    "- Discuss Differences between SQL DBs\n",
    "- Explain the basic structures of a RDBMS\n",
    "- Instantiate SQLite DB instance on your computer"
   ]
  },
  {
   "cell_type": "markdown",
   "metadata": {
    "slideshow": {
     "slide_type": "slide"
    }
   },
   "source": [
    "<img src=\"images/DS_flow_chart.png\" width=500>"
   ]
  },
  {
   "cell_type": "markdown",
   "metadata": {
    "slideshow": {
     "slide_type": "slide"
    }
   },
   "source": [
    "### What is a Database?\n",
    "- In general, databases store sets of data that can be queried for use in other applications. A database man\n",
    "agement system supports the development, administration and use of database platforms."
   ]
  },
  {
   "cell_type": "markdown",
   "metadata": {
    "slideshow": {
     "slide_type": "subslide"
    }
   },
   "source": [
    "\n",
    "### What is a Relational Database? \n",
    "- A *relational database management system* (**RDBMS**) is a type of DBMS with a row-based table structure that connects related data elements and includes functions that maintain the security, accuracy, integrity and consistency of the data.\n",
    "- The most basic **RDBMS** functions are related to *create, read, update and delete* operations, collectively known as **CRUD**."
   ]
  },
  {
   "cell_type": "markdown",
   "metadata": {
    "slideshow": {
     "slide_type": "subslide"
    }
   },
   "source": [
    "### What is SQL?\n",
    "\n",
    "- **SQL** (usually pronounced like the word “sequel”) stands for Structured Query Language.\n",
    "- A programming language used to communicate with data stored in a relational database management system.\n",
    "- SQL syntax is similar to the English language, which makes it relatively easy to write, read, and interpret."
   ]
  },
  {
   "cell_type": "markdown",
   "metadata": {
    "slideshow": {
     "slide_type": "slide"
    }
   },
   "source": [
    "## POPULAR RDBMS\n",
    "\n",
    "- SQLite\n",
    "- MySQL\n",
    "- PostgreSql\n",
    "- Oracle DB\n",
    "- SQL Server"
   ]
  },
  {
   "cell_type": "markdown",
   "metadata": {
    "slideshow": {
     "slide_type": "subslide"
    }
   },
   "source": [
    "### SQLite\n",
    "\n",
    "- SQLite is a popular open source SQL database. \n",
    "- It can store an entire database in a single file.\n",
    "- It is 'lite' because it is not server based.\n",
    "- Does not have many features of server-based RDBMS like users and permissions.\n",
    "- Great to get up and running quick, not good for complex projects."
   ]
  },
  {
   "cell_type": "markdown",
   "metadata": {
    "slideshow": {
     "slide_type": "subslide"
    }
   },
   "source": [
    "### MySQL\n",
    "\n",
    "- MySQL is the most popular open source SQL database. \n",
    "- It is typically used for web application development, and often accessed using PHP. \n",
    "- It is easy to use, inexpensive, reliable and has a large community of developers who can help answer questions.\n",
    "- Open source development has lagged since Oracle has taken control of MySQL.\n",
    "- Has been known to suffer from poor performance when scaling, \n",
    "- Does not include some advanced features that developers may be used to."
   ]
  },
  {
   "cell_type": "markdown",
   "metadata": {
    "slideshow": {
     "slide_type": "subslide"
    }
   },
   "source": [
    "### PostgreSQL\n",
    "\n",
    "- PostgreSQL is an open-source SQL database that is not controlled by any corporation.\n",
    "- PostgreSQL shares many of the same advantages of MySQL.\n",
    "- It is slower in performance than other databases such as MySQL\n",
    "- Harder to come by hosts or service providers that offer managed PostgreSQL instances. "
   ]
  },
  {
   "cell_type": "markdown",
   "metadata": {
    "slideshow": {
     "slide_type": "subslide"
    }
   },
   "source": [
    "### Oracle DB\n",
    "\n",
    "- Owned by Oracle Corporation, and the code is not open sourced. \n",
    "- Oracle DB is for large applications, particularly in the banking industry. \n",
    "- The main disadvantage of using Oracle is that it is not free."
   ]
  },
  {
   "cell_type": "markdown",
   "metadata": {
    "slideshow": {
     "slide_type": "subslide"
    }
   },
   "source": [
    "### SQL Server\n",
    "\n",
    "- Microsoft owns SQL Server. \n",
    "- Large enterprise applications mostly use SQL Server.\n",
    "- Microsoft offers a free entry-level version called Express but can become very expensive as you scale your application. "
   ]
  },
  {
   "cell_type": "markdown",
   "metadata": {
    "slideshow": {
     "slide_type": "slide"
    }
   },
   "source": [
    "### What are the major parts of a SQL DB?"
   ]
  },
  {
   "cell_type": "markdown",
   "metadata": {
    "slideshow": {
     "slide_type": "fragment"
    }
   },
   "source": [
    "- Tables\n",
    "- Schema\n",
    "- Indexes\n",
    "- Views\n",
    "- Store Procedures\n",
    "- Triggers"
   ]
  },
  {
   "cell_type": "markdown",
   "metadata": {
    "slideshow": {
     "slide_type": "subslide"
    }
   },
   "source": [
    "#### Tables\n",
    "Tables are used to store data within the database.  They are its main component and without them, the database would serve little purpose. \n"
   ]
  },
  {
   "cell_type": "markdown",
   "metadata": {
    "slideshow": {
     "slide_type": "fragment"
    }
   },
   "source": [
    "- Tables can have hundreds, thousands, sometimes even millions of rows of data. These rows are often called **records**.\n",
    "- The consists of **columns** of data that are labeled with a descriptive name (say, age for example) and have a specific data type.\n"
   ]
  },
  {
   "cell_type": "markdown",
   "metadata": {
    "slideshow": {
     "slide_type": "subslide"
    }
   },
   "source": [
    "#### Schema\n",
    "A relational database schema helps you to organize and understand the structure of a database."
   ]
  },
  {
   "cell_type": "markdown",
   "metadata": {
    "slideshow": {
     "slide_type": "fragment"
    }
   },
   "source": [
    "![alt text](images/employees-schema.png)"
   ]
  },
  {
   "cell_type": "markdown",
   "metadata": {},
   "source": [
    "### Entity-Relationship Model\n",
    "\n",
    "Entity-Relationship (ER) Model is based on the notion of real-world entities and relationships among them. While formulating real-world scenario into the database model, the ER Model creates entity set, relationship set, general attributes and constraints.\n"
   ]
  },
  {
   "cell_type": "markdown",
   "metadata": {
    "slideshow": {
     "slide_type": "subslide"
    }
   },
   "source": [
    "<img src=\"images/er_model_intro.png\" >"
   ]
  },
  {
   "cell_type": "markdown",
   "metadata": {
    "slideshow": {
     "slide_type": "fragment"
    }
   },
   "source": [
    "**Entity** − An entity in an ER Model is a real-world entity having properties called attributes. Every attribute is defined by its set of values called domain. For example, in a school database, a student is considered as an entity, with various attributes like name, age, class, etc.\n",
    "\n",
    "**Relationship** − The logical association among entities is called relationship. Relationships are mapped with entities in various ways. \n",
    "\n",
    "**Relationship Mappings** −\n",
    "\n",
    "- one to one\n",
    "- one to many\n",
    "- many to one\n",
    "- many to many\n"
   ]
  },
  {
   "cell_type": "markdown",
   "metadata": {
    "slideshow": {
     "slide_type": "subslide"
    }
   },
   "source": [
    "### Indexes\n",
    "Indexes are used to make data retrieval faster. Rather than having to scan an entire table for data, an index allows the database to, directly retrieve the data being asked of it.\n"
   ]
  },
  {
   "cell_type": "markdown",
   "metadata": {
    "slideshow": {
     "slide_type": "fragment"
    }
   },
   "source": [
    "Indexes are primariy created using using a **Primary Key**.\n",
    "A primary key’s main features are:\n",
    "\n",
    "- It must contain a unique value for each row of data.\n",
    "- It cannot contain null values.\n",
    "\n",
    "A primary key is either an existing table column or a column that is specifically generated by the database according to a defined sequence."
   ]
  },
  {
   "cell_type": "markdown",
   "metadata": {
    "slideshow": {
     "slide_type": "subslide"
    }
   },
   "source": [
    "If you were a tax accountant and you wanted to create a database of your clients, which of the following columns who be a good choice for your primary key?\n",
    "\n",
    "- First Name\n",
    "- Last Name\n",
    "- Email Address\n",
    "- SSN\n",
    "- Phone Number"
   ]
  },
  {
   "cell_type": "markdown",
   "metadata": {
    "slideshow": {
     "slide_type": "subslide"
    }
   },
   "source": [
    "### Views \n",
    "\n",
    "Help combat this issue by allowing the database administrator to create “canned” or pre-built queries.\n",
    "\n",
    "Allow you to pull data from multiple tables together without moving or copying the data."
   ]
  },
  {
   "cell_type": "markdown",
   "metadata": {
    "slideshow": {
     "slide_type": "subslide"
    }
   },
   "source": [
    "### Stored Procedures\n",
    "\n",
    "There are many situations where queries alone are insufficient to solve a problem.  In these cases, developers rely on programming languages to process logic, to loop through records, and perform conditional comparisons as required.  These programs can be stored in the SQL database as stored procedures."
   ]
  },
  {
   "cell_type": "markdown",
   "metadata": {
    "slideshow": {
     "slide_type": "subslide"
    }
   },
   "source": [
    "### Triggers\n",
    "\n",
    "Triggers are special instructions that are executed when important events, such as inserting or updating records in a table happen. The most common triggers are Insert, Update, and Delete triggers.  \n",
    "\n",
    "Two items define a trigger on a table: a stored procedure and an event, such as inserting a record that invokes its execution."
   ]
  },
  {
   "cell_type": "markdown",
   "metadata": {
    "slideshow": {
     "slide_type": "slide"
    }
   },
   "source": [
    "## Working With SQLite"
   ]
  },
  {
   "cell_type": "markdown",
   "metadata": {
    "slideshow": {
     "slide_type": "subslide"
    }
   },
   "source": [
    "SQLite comes standard with Python so all you need to do to get it set up is write:\n",
    "\n",
    "`import sqlite3`"
   ]
  },
  {
   "cell_type": "markdown",
   "metadata": {
    "slideshow": {
     "slide_type": "fragment"
    }
   },
   "source": [
    "There are specific python modules that you can use to work with SQL dbs depending on the DB.\n",
    "\n",
    "- Microsoft SQL = pymssql\n",
    "- Postgres = psycopg2\n",
    "- MySQLdb = MySQLDB"
   ]
  },
  {
   "cell_type": "markdown",
   "metadata": {
    "slideshow": {
     "slide_type": "subslide"
    }
   },
   "source": [
    "### Creating a Connection\n",
    "\n",
    "Before you can do anything with your DB, you must first create a connection with it. For DBs that are server based, this can be more coplicated requiring you to know the server ip, a username, password database name, and port. \n",
    "``` python \n",
    "import MySQLdb\n",
    "conn = MySQLdb.connect(host=host, user=user, passwd=passwd, db=db)\n",
    "```"
   ]
  },
  {
   "cell_type": "markdown",
   "metadata": {
    "slideshow": {
     "slide_type": "subslide"
    }
   },
   "source": [
    "For SQLite, this is much easier because you just need to access the flat file where the DB is stored. "
   ]
  },
  {
   "cell_type": "code",
   "execution_count": 1,
   "metadata": {
    "slideshow": {
     "slide_type": "fragment"
    }
   },
   "outputs": [],
   "source": [
    "import sqlite3\n",
    "\n",
    "conn = sqlite3.connect('tutorial.db')\n"
   ]
  },
  {
   "cell_type": "markdown",
   "metadata": {
    "slideshow": {
     "slide_type": "subslide"
    }
   },
   "source": [
    "#### Cursor\n",
    "This temporary work area is used to store the data retrieved from the database, and manipulate this data. \n",
    "\n",
    "A cursor can hold more than one row, but can process only one row at a time. \n",
    "\n",
    "The set of rows the cursor holds is called the active set."
   ]
  },
  {
   "cell_type": "code",
   "execution_count": 2,
   "metadata": {
    "slideshow": {
     "slide_type": "fragment"
    }
   },
   "outputs": [],
   "source": [
    "c = conn.cursor()"
   ]
  },
  {
   "cell_type": "markdown",
   "metadata": {
    "slideshow": {
     "slide_type": "subslide"
    }
   },
   "source": [
    "#### Create a Table\n",
    "Now that we have a connection and a cursor, lets create a table."
   ]
  },
  {
   "cell_type": "markdown",
   "metadata": {
    "slideshow": {
     "slide_type": "subslide"
    }
   },
   "source": [
    "#### SQLite Data Types\n",
    "\n",
    "Any column declared in an SQLite database is assigned a type affinity depending on it declared data type. Here the list of type affinities in SQLite:\n",
    "\n",
    "- TEXT\n",
    "- NUMERIC\n",
    "- INTEGER\n",
    "- REAL\n",
    "- BLOB"
   ]
  },
  {
   "cell_type": "markdown",
   "metadata": {
    "slideshow": {
     "slide_type": "fragment"
    }
   },
   "source": [
    "However, you still can store any type of data as you wish, these types are recommended not required.\n",
    "\n",
    "These types were introduced in SQLite to maximize the compatibility between SQLite and other database management system."
   ]
  },
  {
   "cell_type": "markdown",
   "metadata": {
    "slideshow": {
     "slide_type": "subslide"
    }
   },
   "source": [
    "<img src=\"images/SQLlite_datatype.jpg\" width=450/>"
   ]
  },
  {
   "cell_type": "code",
   "execution_count": 3,
   "metadata": {
    "slideshow": {
     "slide_type": "subslide"
    }
   },
   "outputs": [],
   "source": [
    "create_query = \"\"\"CREATE TABLE IF NOT EXISTS stuffToPlot\n",
    "        (unix REAL, datestamp TEXT, keyword TEXT, value REAL)\"\"\"\n",
    "def create_table(query):\n",
    "    c.execute(query)\n"
   ]
  },
  {
   "cell_type": "code",
   "execution_count": 4,
   "metadata": {
    "slideshow": {
     "slide_type": "subslide"
    }
   },
   "outputs": [],
   "source": [
    "insert_query = \"\"\"INSERT INTO stuffToPlot VALUES\n",
    "                (1452549219,'2016-01-11 13:53:39','Python',6)\"\"\"\n",
    "\n",
    "def data_entry(query):\n",
    "    c.execute(query)\n",
    "\n",
    "    conn.commit()\n",
    "    \n",
    "def close_c_conn():\n",
    "    c.close()\n",
    "    conn.close()\n",
    "    "
   ]
  },
  {
   "cell_type": "code",
   "execution_count": 5,
   "metadata": {
    "slideshow": {
     "slide_type": "fragment"
    }
   },
   "outputs": [],
   "source": [
    "create_table(create_query)\n",
    "data_entry(insert_query)\n",
    "\n",
    "close_c_conn()"
   ]
  },
  {
   "cell_type": "markdown",
   "metadata": {
    "slideshow": {
     "slide_type": "subslide"
    }
   },
   "source": [
    "#### Inserting Data dynamically"
   ]
  },
  {
   "cell_type": "code",
   "execution_count": 6,
   "metadata": {
    "slideshow": {
     "slide_type": "fragment"
    }
   },
   "outputs": [],
   "source": [
    "import time\n",
    "import datetime\n",
    "import random"
   ]
  },
  {
   "cell_type": "code",
   "execution_count": 7,
   "metadata": {
    "slideshow": {
     "slide_type": "fragment"
    }
   },
   "outputs": [],
   "source": [
    "conn = sqlite3.connect('tutorial.db')\n",
    "c = conn.cursor()"
   ]
  },
  {
   "cell_type": "code",
   "execution_count": 8,
   "metadata": {
    "slideshow": {
     "slide_type": "subslide"
    }
   },
   "outputs": [],
   "source": [
    "def dynamic_data_entry():\n",
    "\n",
    "    unix = int(time.time())\n",
    "    date = str(datetime.datetime.fromtimestamp(unix).strftime('%Y-%m-%d %H:%M:%S'))\n",
    "    keyword = 'Python'\n",
    "    value = random.randrange(0,10)\n",
    "\n",
    "    c.execute(\"INSERT INTO stuffToPlot (unix, datestamp, keyword, value) VALUES (?, ?, ?, ?)\",\n",
    "          (unix, date, keyword, value))\n",
    "\n",
    "    conn.commit()\n",
    "\n",
    "for i in range(10):\n",
    "    dynamic_data_entry()\n",
    "    time.sleep(1)\n",
    "\n",
    "# c.close\n",
    "# conn.close()"
   ]
  },
  {
   "cell_type": "markdown",
   "metadata": {
    "slideshow": {
     "slide_type": "subslide"
    }
   },
   "source": [
    "We can also write a query that reads from the DB"
   ]
  },
  {
   "cell_type": "code",
   "execution_count": 9,
   "metadata": {
    "slideshow": {
     "slide_type": "fragment"
    }
   },
   "outputs": [
    {
     "name": "stdout",
     "output_type": "stream",
     "text": [
      "[(1452549219.0, '2016-01-11 13:53:39', 'Python', 6.0), (1563826451.0, '2019-07-22 16:14:11', 'Python', 7.0), (1563826452.0, '2019-07-22 16:14:12', 'Python', 4.0), (1563826453.0, '2019-07-22 16:14:13', 'Python', 6.0), (1563826454.0, '2019-07-22 16:14:14', 'Python', 4.0), (1563826455.0, '2019-07-22 16:14:15', 'Python', 1.0), (1563826456.0, '2019-07-22 16:14:16', 'Python', 4.0), (1563826457.0, '2019-07-22 16:14:17', 'Python', 7.0), (1563826458.0, '2019-07-22 16:14:18', 'Python', 3.0), (1563826459.0, '2019-07-22 16:14:19', 'Python', 6.0), (1563826460.0, '2019-07-22 16:14:20', 'Python', 6.0), (1452549219.0, '2016-01-11 13:53:39', 'Python', 6.0), (1563826759.0, '2019-07-22 16:19:19', 'Python', 7.0), (1563826760.0, '2019-07-22 16:19:20', 'Python', 7.0), (1563826761.0, '2019-07-22 16:19:21', 'Python', 3.0), (1563826762.0, '2019-07-22 16:19:22', 'Python', 2.0), (1563826763.0, '2019-07-22 16:19:23', 'Python', 4.0), (1563826764.0, '2019-07-22 16:19:24', 'Python', 5.0), (1563826765.0, '2019-07-22 16:19:25', 'Python', 1.0), (1563826766.0, '2019-07-22 16:19:26', 'Python', 6.0), (1563826767.0, '2019-07-22 16:19:27', 'Python', 4.0), (1563826768.0, '2019-07-22 16:19:28', 'Python', 1.0), (1452549219.0, '2016-01-11 13:53:39', 'Python', 6.0), (1563828344.0, '2019-07-22 16:45:44', 'Python', 2.0), (1563828345.0, '2019-07-22 16:45:45', 'Python', 8.0), (1563828346.0, '2019-07-22 16:45:46', 'Python', 9.0), (1563828347.0, '2019-07-22 16:45:47', 'Python', 2.0), (1563828348.0, '2019-07-22 16:45:48', 'Python', 7.0), (1563828349.0, '2019-07-22 16:45:49', 'Python', 0.0), (1563828350.0, '2019-07-22 16:45:50', 'Python', 6.0), (1563828351.0, '2019-07-22 16:45:51', 'Python', 4.0), (1563828352.0, '2019-07-22 16:45:52', 'Python', 4.0), (1563828353.0, '2019-07-22 16:45:53', 'Python', 9.0), (1452549219.0, '2016-01-11 13:53:39', 'Python', 6.0), (1563828361.0, '2019-07-22 16:46:01', 'Python', 3.0), (1563828362.0, '2019-07-22 16:46:02', 'Python', 8.0), (1563828363.0, '2019-07-22 16:46:03', 'Python', 6.0), (1563828364.0, '2019-07-22 16:46:04', 'Python', 5.0), (1563828365.0, '2019-07-22 16:46:05', 'Python', 9.0), (1563828366.0, '2019-07-22 16:46:06', 'Python', 0.0), (1563828367.0, '2019-07-22 16:46:07', 'Python', 2.0), (1563828368.0, '2019-07-22 16:46:08', 'Python', 2.0), (1563828369.0, '2019-07-22 16:46:09', 'Python', 6.0), (1563828370.0, '2019-07-22 16:46:10', 'Python', 2.0)]\n",
      "(1452549219.0, '2016-01-11 13:53:39', 'Python', 6.0)\n",
      "(1563826451.0, '2019-07-22 16:14:11', 'Python', 7.0)\n",
      "(1563826452.0, '2019-07-22 16:14:12', 'Python', 4.0)\n",
      "(1563826453.0, '2019-07-22 16:14:13', 'Python', 6.0)\n",
      "(1563826454.0, '2019-07-22 16:14:14', 'Python', 4.0)\n",
      "(1563826455.0, '2019-07-22 16:14:15', 'Python', 1.0)\n",
      "(1563826456.0, '2019-07-22 16:14:16', 'Python', 4.0)\n",
      "(1563826457.0, '2019-07-22 16:14:17', 'Python', 7.0)\n",
      "(1563826458.0, '2019-07-22 16:14:18', 'Python', 3.0)\n",
      "(1563826459.0, '2019-07-22 16:14:19', 'Python', 6.0)\n",
      "(1563826460.0, '2019-07-22 16:14:20', 'Python', 6.0)\n",
      "(1452549219.0, '2016-01-11 13:53:39', 'Python', 6.0)\n",
      "(1563826759.0, '2019-07-22 16:19:19', 'Python', 7.0)\n",
      "(1563826760.0, '2019-07-22 16:19:20', 'Python', 7.0)\n",
      "(1563826761.0, '2019-07-22 16:19:21', 'Python', 3.0)\n",
      "(1563826762.0, '2019-07-22 16:19:22', 'Python', 2.0)\n",
      "(1563826763.0, '2019-07-22 16:19:23', 'Python', 4.0)\n",
      "(1563826764.0, '2019-07-22 16:19:24', 'Python', 5.0)\n",
      "(1563826765.0, '2019-07-22 16:19:25', 'Python', 1.0)\n",
      "(1563826766.0, '2019-07-22 16:19:26', 'Python', 6.0)\n",
      "(1563826767.0, '2019-07-22 16:19:27', 'Python', 4.0)\n",
      "(1563826768.0, '2019-07-22 16:19:28', 'Python', 1.0)\n",
      "(1452549219.0, '2016-01-11 13:53:39', 'Python', 6.0)\n",
      "(1563828344.0, '2019-07-22 16:45:44', 'Python', 2.0)\n",
      "(1563828345.0, '2019-07-22 16:45:45', 'Python', 8.0)\n",
      "(1563828346.0, '2019-07-22 16:45:46', 'Python', 9.0)\n",
      "(1563828347.0, '2019-07-22 16:45:47', 'Python', 2.0)\n",
      "(1563828348.0, '2019-07-22 16:45:48', 'Python', 7.0)\n",
      "(1563828349.0, '2019-07-22 16:45:49', 'Python', 0.0)\n",
      "(1563828350.0, '2019-07-22 16:45:50', 'Python', 6.0)\n",
      "(1563828351.0, '2019-07-22 16:45:51', 'Python', 4.0)\n",
      "(1563828352.0, '2019-07-22 16:45:52', 'Python', 4.0)\n",
      "(1563828353.0, '2019-07-22 16:45:53', 'Python', 9.0)\n",
      "(1452549219.0, '2016-01-11 13:53:39', 'Python', 6.0)\n",
      "(1563828361.0, '2019-07-22 16:46:01', 'Python', 3.0)\n",
      "(1563828362.0, '2019-07-22 16:46:02', 'Python', 8.0)\n",
      "(1563828363.0, '2019-07-22 16:46:03', 'Python', 6.0)\n",
      "(1563828364.0, '2019-07-22 16:46:04', 'Python', 5.0)\n",
      "(1563828365.0, '2019-07-22 16:46:05', 'Python', 9.0)\n",
      "(1563828366.0, '2019-07-22 16:46:06', 'Python', 0.0)\n",
      "(1563828367.0, '2019-07-22 16:46:07', 'Python', 2.0)\n",
      "(1563828368.0, '2019-07-22 16:46:08', 'Python', 2.0)\n",
      "(1563828369.0, '2019-07-22 16:46:09', 'Python', 6.0)\n",
      "(1563828370.0, '2019-07-22 16:46:10', 'Python', 2.0)\n"
     ]
    }
   ],
   "source": [
    "def read_from_db():\n",
    "    c.execute('SELECT * FROM stuffToPlot')\n",
    "    data = c.fetchall()\n",
    "    print(data)\n",
    "    for row in data:\n",
    "        print(row)\n",
    "\n",
    "read_from_db()"
   ]
  },
  {
   "cell_type": "code",
   "execution_count": 10,
   "metadata": {
    "slideshow": {
     "slide_type": "fragment"
    }
   },
   "outputs": [],
   "source": [
    "close_c_conn()"
   ]
  },
  {
   "cell_type": "markdown",
   "metadata": {
    "slideshow": {
     "slide_type": "slide"
    }
   },
   "source": [
    "### Let's set up a DB fto use later.\n",
    "\n",
    "\n",
    "In the zip folder you have a json file with information about all of the students in this class.  \n",
    "1. Read in the JSON file\n",
    "2. Examine data in file\n",
    "3. Create a table for the data\n",
    "4. Create a function to insert each data entry dynamically\n",
    "5. Insert Data\n",
    "6. Write queries to answer the following questions\n"
   ]
  },
  {
   "cell_type": "markdown",
   "metadata": {
    "slideshow": {
     "slide_type": "subslide"
    }
   },
   "source": [
    "### 1. Read in the JSON file"
   ]
  },
  {
   "cell_type": "code",
   "execution_count": 11,
   "metadata": {
    "slideshow": {
     "slide_type": "fragment"
    }
   },
   "outputs": [],
   "source": [
    "\n",
    "import json\n",
    "f=open('students.json','r')\n",
    "data=json.load(f)"
   ]
  },
  {
   "cell_type": "markdown",
   "metadata": {
    "slideshow": {
     "slide_type": "subslide"
    }
   },
   "source": [
    "### 2. Examine the Data"
   ]
  },
  {
   "cell_type": "code",
   "execution_count": 12,
   "metadata": {
    "scrolled": true,
    "slideshow": {
     "slide_type": "fragment"
    }
   },
   "outputs": [
    {
     "data": {
      "text/plain": [
       "[{'name': 'Sean Abu Wilson',\n",
       "  'birthdate': '02/06',\n",
       "  'siblings': 2,\n",
       "  'Birthplace': 'Birmingham, AL',\n",
       "  'yearsinnyc': 7.8,\n",
       "  'favoritefood': 'guacamole'},\n",
       " {'name': 'Tawab',\n",
       "  'birthdate': '04/08/1998',\n",
       "  'siblings': 4,\n",
       "  'Birthplace': 'Afghanistan',\n",
       "  'yearsinnyc': 0.5,\n",
       "  'favoritefood': 'pizza'},\n",
       " {'name': 'Bridget Boakye',\n",
       "  'birthdate': '1990-07-13',\n",
       "  'siblings': 3,\n",
       "  'Birthplace': 'Accra',\n",
       "  'yearsinnyc': 15,\n",
       "  'favoritefood': 'Indian'},\n",
       " {'name': 'Cristina',\n",
       "  'birthdate': '9/9/1990',\n",
       "  'siblings': 2,\n",
       "  'Birthplace': 'Spain',\n",
       "  'yearsinnyc': 6,\n",
       "  'favoritefood': 'Sushi'},\n",
       " {'name': 'Danny (Haoyang) Yu',\n",
       "  'birthdate': '1997-03-19',\n",
       "  'siblings': 2,\n",
       "  'Birthplace': '1997-03-19',\n",
       "  'yearsinnyc': 0,\n",
       "  'favoritefood': 'Galbi'},\n",
       " {'name': 'Dustin_Breitner',\n",
       "  'birthdate': '04/15/94',\n",
       "  'siblings': 2,\n",
       "  'Birthplace': 'New_York',\n",
       "  'yearsinnyc': 3,\n",
       "  'favoritefood': 'Pizza'},\n",
       " {'name': 'Gregory DeSantis',\n",
       "  'birthdate': '1987-11-23',\n",
       "  'siblings': 2,\n",
       "  'Birthplace': 'Highland Park, NJ',\n",
       "  'yearsinnyc': 13,\n",
       "  'favoritefood': 'Pizza'},\n",
       " {'name': 'Harrison Miller',\n",
       "  'birthdate': '10/2/85',\n",
       "  'siblings': 0,\n",
       "  'Birthplace': 'New Jersey',\n",
       "  'yearsinnyc': 0,\n",
       "  'favoritefood': 'Pizza'},\n",
       " {'name': 'Jeremy Owens',\n",
       "  'birthdate': '03/30/1990',\n",
       "  'siblings': 0,\n",
       "  'Birthplace': 'Virginia',\n",
       "  'yearsinnyc': 6,\n",
       "  'favoritefood': 'Avocado'},\n",
       " {'name': 'Jeremy Reikes',\n",
       "  'birthdate': '1-/12/1995',\n",
       "  'siblings': 1,\n",
       "  'Birthplace': 'New York City',\n",
       "  'yearsinnyc': 23,\n",
       "  'favoritefood': 'Pizza'},\n",
       " {'name': 'Johnathan Peck',\n",
       "  'birthdate': '02-19-1994',\n",
       "  'siblings': 2,\n",
       "  'Birthplace': 'New York',\n",
       "  'yearsinnyc': 25,\n",
       "  'favoritefood': 'Moms food'},\n",
       " {'name': 'Minna F',\n",
       "  'birthdate': '11-19-1996',\n",
       "  'siblings': 3,\n",
       "  'Birthplace': 'San Francisco',\n",
       "  'yearsinnyc': 1,\n",
       "  'favoritefood': 'sushi'},\n",
       " {'name': 'Nabil Abbas',\n",
       "  'birthdate': '12-07-1994',\n",
       "  'siblings': 2,\n",
       "  'Birthplace': 'Long Island',\n",
       "  'yearsinnyc': 6,\n",
       "  'favoritefood': 'Gyro'},\n",
       " {'name': 'Natalie Del Rossi',\n",
       "  'birthdate': '10-23-1994',\n",
       "  'siblings': 0,\n",
       "  'Birthplace': 'Brooklyn',\n",
       "  'yearsinnyc': 18,\n",
       "  'favoritefood': 'pizza'},\n",
       " {'name': 'Remy Canario',\n",
       "  'birthdate': '10-11-1988',\n",
       "  'siblings': 0,\n",
       "  'Birthplace': 'New York',\n",
       "  'yearsinnyc': 28,\n",
       "  'favoritefood': 'toast'},\n",
       " {'name': 'Xristos Katsaros',\n",
       "  'birthdate': '03-24-1986',\n",
       "  'siblings': 1,\n",
       "  'Birthplace': 'Chicago Heights, IL',\n",
       "  'yearsinnyc': 3,\n",
       "  'favoritefood': 'Pizza'}]"
      ]
     },
     "execution_count": 12,
     "metadata": {},
     "output_type": "execute_result"
    }
   ],
   "source": [
    "data"
   ]
  },
  {
   "cell_type": "markdown",
   "metadata": {
    "slideshow": {
     "slide_type": "subslide"
    }
   },
   "source": [
    "### 3. Create a table for the data"
   ]
  },
  {
   "cell_type": "markdown",
   "metadata": {
    "slideshow": {
     "slide_type": "fragment"
    }
   },
   "source": [
    "We want to set up a table to keep track of the following student information:\n",
    "\n",
    "- name\n",
    "- birthdate\n",
    "- number of siblings\n",
    "- birth_place\n",
    "- years_in_nyc\n",
    "- favorite_food"
   ]
  },
  {
   "cell_type": "code",
   "execution_count": 13,
   "metadata": {
    "slideshow": {
     "slide_type": "subslide"
    }
   },
   "outputs": [],
   "source": [
    "\n",
    "conn = sqlite3.connect('tutorial.db')\n",
    "c = conn.cursor()"
   ]
  },
  {
   "cell_type": "code",
   "execution_count": 32,
   "metadata": {
    "slideshow": {
     "slide_type": "fragment"
    }
   },
   "outputs": [],
   "source": [
    "#Write a statement to create a table\n",
    "# think about what datatype you wnat each field to be\n",
    "c.execute('''\n",
    "CREATE TABLE stud_inf(id INTEGER PRIMARY KEY AUTOINCREMENT,\n",
    "                    name text, \n",
    "                    birthdate date, \n",
    "                    number_of_siblings int, \n",
    "                    birth_place text, \n",
    "                    years_in_nyc int, \n",
    "                    favorite_food text)\n",
    "''')\n",
    "\n",
    "conn.commit()"
   ]
  },
  {
   "cell_type": "markdown",
   "metadata": {
    "slideshow": {
     "slide_type": "subslide"
    }
   },
   "source": [
    "### 4. Create a function to insert each data entry dynamically"
   ]
  },
  {
   "cell_type": "code",
   "execution_count": 33,
   "metadata": {
    "slideshow": {
     "slide_type": "fragment"
    }
   },
   "outputs": [],
   "source": [
    "#Create an insert statement to insert yourself as a record.\n",
    "def insert_data(i):\n",
    "\n",
    "#     name = str()\n",
    "#     birthdate = \n",
    "#     number_of_siblings = \n",
    "#     birth_place = \n",
    "#     years_in_nyc =  \n",
    "#     favorite_food = \n",
    "\n",
    "    c.execute(\"INSERT INTO stud_inf (name, birthdate, number_of_siblings, birth_place, years_in_nyc, favorite_food) VALUES (?, ?, ?, ?, ?, ?)\", (i['name'], i['birthdate'], i['siblings'], i['Birthplace'], i['yearsinnyc'], i['favoritefood']))\n",
    "\n",
    "    conn.commit()\n",
    "\n",
    "# c.close\n",
    "# conn.close()"
   ]
  },
  {
   "cell_type": "markdown",
   "metadata": {
    "slideshow": {
     "slide_type": "subslide"
    }
   },
   "source": [
    "### 5. Insert Data\n"
   ]
  },
  {
   "cell_type": "code",
   "execution_count": 34,
   "metadata": {
    "slideshow": {
     "slide_type": "fragment"
    }
   },
   "outputs": [
    {
     "data": {
      "text/plain": [
       "[(1, 'Sean Abu Wilson', '02/06', 2, 'Birmingham, AL', 7.8, 'guacamole'),\n",
       " (2, 'Tawab', '04/08/1998', 4, 'Afghanistan', 0.5, 'pizza'),\n",
       " (3, 'Bridget Boakye', '1990-07-13', 3, 'Accra', 15, 'Indian'),\n",
       " (4, 'Cristina', '9/9/1990', 2, 'Spain', 6, 'Sushi'),\n",
       " (5, 'Danny (Haoyang) Yu', '1997-03-19', 2, '1997-03-19', 0, 'Galbi'),\n",
       " (6, 'Dustin_Breitner', '04/15/94', 2, 'New_York', 3, 'Pizza'),\n",
       " (7, 'Gregory DeSantis', '1987-11-23', 2, 'Highland Park, NJ', 13, 'Pizza'),\n",
       " (8, 'Harrison Miller', '10/2/85', 0, 'New Jersey', 0, 'Pizza'),\n",
       " (9, 'Jeremy Owens', '03/30/1990', 0, 'Virginia', 6, 'Avocado'),\n",
       " (10, 'Jeremy Reikes', '1-/12/1995', 1, 'New York City', 23, 'Pizza'),\n",
       " (11, 'Johnathan Peck', '02-19-1994', 2, 'New York', 25, 'Moms food'),\n",
       " (12, 'Minna F', '11-19-1996', 3, 'San Francisco', 1, 'sushi'),\n",
       " (13, 'Nabil Abbas', '12-07-1994', 2, 'Long Island', 6, 'Gyro'),\n",
       " (14, 'Natalie Del Rossi', '10-23-1994', 0, 'Brooklyn', 18, 'pizza'),\n",
       " (15, 'Remy Canario', '10-11-1988', 0, 'New York', 28, 'toast'),\n",
       " (16, 'Xristos Katsaros', '03-24-1986', 1, 'Chicago Heights, IL', 3, 'Pizza')]"
      ]
     },
     "execution_count": 34,
     "metadata": {},
     "output_type": "execute_result"
    }
   ],
   "source": [
    "# write code here\n",
    "\n",
    "for i in data:\n",
    "    insert_data(i)\n",
    "\n",
    "c.execute('''SELECT * FROM stud_inf''').fetchall()"
   ]
  },
  {
   "cell_type": "markdown",
   "metadata": {
    "slideshow": {
     "slide_type": "subslide"
    }
   },
   "source": [
    "### 6. Write queries to answer the following questions"
   ]
  },
  {
   "cell_type": "markdown",
   "metadata": {
    "slideshow": {
     "slide_type": "fragment"
    }
   },
   "source": [
    "### Questions\n",
    "1. Which student was born closest to the cohort's graduation date?\n",
    "2. Which student has the most siblings?\n",
    "3. How many students are only children?\n",
    "4. Which 3 students have lived in NYC the shortest amount of time?\n",
    "5. How many students are native New Yorkers?\n",
    "5. Do any two students have the same favorite food?"
   ]
  },
  {
   "cell_type": "code",
   "execution_count": 66,
   "metadata": {},
   "outputs": [
    {
     "data": {
      "text/plain": [
       "[('Johnathan Peck', '02-19-1994'),\n",
       " ('Sean Abu Wilson', '02/06'),\n",
       " ('Xristos Katsaros', '03-24-1986'),\n",
       " ('Jeremy Owens', '03/30/1990'),\n",
       " ('Tawab', '04/08/1998'),\n",
       " ('Dustin_Breitner', '04/15/94'),\n",
       " ('Jeremy Reikes', '1-/12/1995'),\n",
       " ('Remy Canario', '10-11-1988'),\n",
       " ('Natalie Del Rossi', '10-23-1994'),\n",
       " ('Harrison Miller', '10/2/85'),\n",
       " ('Minna F', '11-19-1996'),\n",
       " ('Nabil Abbas', '12-07-1994'),\n",
       " ('Gregory DeSantis', '1987-11-23'),\n",
       " ('Bridget Boakye', '1990-07-13'),\n",
       " ('Danny (Haoyang) Yu', '1997-03-19'),\n",
       " ('Cristina', '9/9/1990')]"
      ]
     },
     "execution_count": 66,
     "metadata": {},
     "output_type": "execute_result"
    }
   ],
   "source": [
    "c.execute('''SELECT name, birthdate FROM stud_inf ORDER BY birthdate''').fetchall()"
   ]
  },
  {
   "cell_type": "code",
   "execution_count": 43,
   "metadata": {},
   "outputs": [
    {
     "data": {
      "text/plain": [
       "[(2, 'Tawab')]"
      ]
     },
     "execution_count": 43,
     "metadata": {},
     "output_type": "execute_result"
    }
   ],
   "source": [
    "c.execute('''SELECT id, name FROM stud_inf WHERE number_of_siblings = (SELECT max(number_of_siblings) FROM stud_inf)''').fetchall()"
   ]
  },
  {
   "cell_type": "code",
   "execution_count": 44,
   "metadata": {},
   "outputs": [
    {
     "data": {
      "text/plain": [
       "[(4,)]"
      ]
     },
     "execution_count": 44,
     "metadata": {},
     "output_type": "execute_result"
    }
   ],
   "source": [
    "c.execute('''SELECT count(name) FROM stud_inf WHERE number_of_siblings = 0''').fetchall()"
   ]
  },
  {
   "cell_type": "code",
   "execution_count": 49,
   "metadata": {},
   "outputs": [
    {
     "data": {
      "text/plain": [
       "[('Danny (Haoyang) Yu', 0), ('Harrison Miller', 0), ('Tawab', 0.5)]"
      ]
     },
     "execution_count": 49,
     "metadata": {},
     "output_type": "execute_result"
    }
   ],
   "source": [
    "c.execute('''SELECT name, years_in_nyc FROM stud_inf ORDER BY years_in_nyc LIMIT 3''').fetchall()"
   ]
  },
  {
   "cell_type": "code",
   "execution_count": 56,
   "metadata": {},
   "outputs": [
    {
     "data": {
      "text/plain": [
       "[(4,)]"
      ]
     },
     "execution_count": 56,
     "metadata": {},
     "output_type": "execute_result"
    }
   ],
   "source": [
    "c.execute('''SELECT COUNT(name) FROM stud_inf WHERE birth_place = 'New York' OR birth_place = 'New York City' OR birth_place = 'New_York' ''').fetchall()"
   ]
  },
  {
   "cell_type": "code",
   "execution_count": 65,
   "metadata": {},
   "outputs": [
    {
     "data": {
      "text/plain": [
       "[(5, 'Pizza'), (2, 'pizza')]"
      ]
     },
     "execution_count": 65,
     "metadata": {},
     "output_type": "execute_result"
    }
   ],
   "source": [
    "c.execute('''SELECT Count(name), favorite_food FROM stud_inf GROUP BY favorite_food HAVING COUNT(favorite_food) > 1''').fetchall()"
   ]
  }
 ],
 "metadata": {
  "celltoolbar": "Slideshow",
  "kernelspec": {
   "display_name": "Python 3",
   "language": "python",
   "name": "python3"
  },
  "language_info": {
   "codemirror_mode": {
    "name": "ipython",
    "version": 3
   },
   "file_extension": ".py",
   "mimetype": "text/x-python",
   "name": "python",
   "nbconvert_exporter": "python",
   "pygments_lexer": "ipython3",
   "version": "3.7.3"
  }
 },
 "nbformat": 4,
 "nbformat_minor": 2
}
